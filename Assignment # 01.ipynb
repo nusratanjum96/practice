{
 "cells": [
  {
   "cell_type": "code",
   "execution_count": 1,
   "metadata": {},
   "outputs": [
    {
     "name": "stdout",
     "output_type": "stream",
     "text": [
      "Twinkle, twinkle, little star,\n",
      "      How I wonder what you are!\n",
      "            Up above the world so high,\n",
      "            Like a diamond in the sky.\n",
      "Twinkle, twinkle, little star,\n",
      "      How I wonder what you are\n"
     ]
    }
   ],
   "source": [
    "# question No 1\n",
    "print(\"Twinkle, twinkle, little star,\\n\"+\n",
    " \"      \"+\"How I wonder what you are!\\n\"+\n",
    "\"            \"+\"Up above the world so high,\\n\"+\n",
    "\"            \"+\"Like a diamond in the sky.\\n\" +\n",
    "\"Twinkle, twinkle, little star,\\n\" +\n",
    "\"      \"+\"How I wonder what you are\")"
   ]
  },
  {
   "cell_type": "code",
   "execution_count": 2,
   "metadata": {},
   "outputs": [
    {
     "name": "stdout",
     "output_type": "stream",
     "text": [
      "Python version\n",
      "3.7.4 (default, Aug  9 2019, 18:34:13) [MSC v.1915 64 bit (AMD64)]\n"
     ]
    }
   ],
   "source": [
    "# question No 2\n",
    "import sys\n",
    "print(\"Python version\")\n",
    "print (sys.version)"
   ]
  },
  {
   "cell_type": "code",
   "execution_count": 3,
   "metadata": {},
   "outputs": [
    {
     "name": "stdout",
     "output_type": "stream",
     "text": [
      "Current date and time : \n",
      "2019-11-03 13:10:12\n"
     ]
    }
   ],
   "source": [
    "# question No 3\n",
    "import datetime\n",
    "now = datetime.datetime.now()\n",
    "print (\"Current date and time : \")\n",
    "print (now.strftime(\"%Y-%m-%d %H:%M:%S\"))"
   ]
  },
  {
   "cell_type": "code",
   "execution_count": 4,
   "metadata": {},
   "outputs": [
    {
     "name": "stdout",
     "output_type": "stream",
     "text": [
      "enter radius3\n",
      "area of circle with radius 3.0 is: 28.274333882308138\n"
     ]
    }
   ],
   "source": [
    "# question No 4\n",
    "from math import pi\n",
    "radius = float(input(\"enter radius\"))\n",
    "print (\"area of circle with radius\" + \" \"+ str(radius) +\" \" + \"is:\" +\" \"+ str(pi * radius**2))"
   ]
  },
  {
   "cell_type": "code",
   "execution_count": 11,
   "metadata": {},
   "outputs": [
    {
     "name": "stdout",
     "output_type": "stream",
     "text": [
      "Input your First Name : nusrat\n",
      "Input your Last Name : anjum\n",
      "tarsun mujna\n"
     ]
    }
   ],
   "source": [
    "# question No 5\n",
    "def reverse_slicing(s):\n",
    "    return s[::-1]\n",
    "fname = input(\"Input your First Name : \")\n",
    "lname = input(\"Input your Last Name : \")\n",
    "print (reverse_slicing(fname), reverse_slicing(lname))"
   ]
  },
  {
   "cell_type": "code",
   "execution_count": 6,
   "metadata": {},
   "outputs": [
    {
     "name": "stdout",
     "output_type": "stream",
     "text": [
      "enter any number to addition 33\n",
      "enter 2nd number 22\n",
      "total is 55\n"
     ]
    }
   ],
   "source": [
    "# question No 6\n",
    "a1 = int(input(\"enter any number to addition\" + \" \"))\n",
    "a2 = int(input(\"enter 2nd number\" + \" \"))\n",
    "c = a1 + a2\n",
    "print(\"total is \" +str(c))"
   ]
  },
  {
   "cell_type": "code",
   "execution_count": null,
   "metadata": {},
   "outputs": [],
   "source": []
  },
  {
   "cell_type": "code",
   "execution_count": null,
   "metadata": {},
   "outputs": [],
   "source": []
  },
  {
   "cell_type": "code",
   "execution_count": null,
   "metadata": {},
   "outputs": [],
   "source": []
  }
 ],
 "metadata": {
  "kernelspec": {
   "display_name": "Python 3",
   "language": "python",
   "name": "python3"
  },
  "language_info": {
   "codemirror_mode": {
    "name": "ipython",
    "version": 3
   },
   "file_extension": ".py",
   "mimetype": "text/x-python",
   "name": "python",
   "nbconvert_exporter": "python",
   "pygments_lexer": "ipython3",
   "version": "3.7.4"
  }
 },
 "nbformat": 4,
 "nbformat_minor": 2
}
